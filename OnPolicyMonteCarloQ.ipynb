{
 "cells": [
  {
   "cell_type": "code",
   "execution_count": 1,
   "metadata": {},
   "outputs": [],
   "source": [
    "import gym\n",
    "import numpy as np\n",
    "from IPython import display\n",
    "import time\n",
    "\n",
    "import pandas as pd\n",
    "import seaborn as sn\n",
    "from matplotlib import pyplot as plt\n",
    "\n",
    "%matplotlib inline"
   ]
  },
  {
   "cell_type": "markdown",
   "metadata": {},
   "source": [
    "## The environment"
   ]
  },
  {
   "cell_type": "markdown",
   "metadata": {},
   "source": [
    "[Frozen Lake 8x8 environmnet](https://github.com/openai/gym/blob/master/gym/envs/toy_text/frozen_lake.py)"
   ]
  },
  {
   "cell_type": "code",
   "execution_count": 2,
   "metadata": {},
   "outputs": [
    {
     "name": "stdout",
     "output_type": "stream",
     "text": [
      "  (Right)\n",
      "SFFF\n",
      "FHFH\n",
      "FFFH\n",
      "HF\u001b[41mF\u001b[0mG\n"
     ]
    }
   ],
   "source": [
    "# Have a look at the frozen lake environment\n",
    "env = gym.make('FrozenLake-v0')\n",
    "# env = gym.make('FrozenLake8x8-v0')\n",
    "# Action dict from source\n",
    "action_dict = {'LEFT': 0, 'DOWN': 1, 'RIGHT': 2, 'UP': 3}\n",
    "done = False\n",
    "env.reset()\n",
    "obs_list = []\n",
    "while not done:\n",
    "    display.clear_output(wait=True)\n",
    "    time.sleep(0.5)\n",
    "    env.render()\n",
    "    obs, reward, done, info= env.step(env.action_space.sample()) # take a random action\n",
    "    obs_list.append((obs, reward, done, info))\n",
    "env.close()"
   ]
  },
  {
   "cell_type": "code",
   "execution_count": 16,
   "metadata": {},
   "outputs": [
    {
     "data": {
      "text/plain": [
       "<matplotlib.axes._subplots.AxesSubplot at 0x1f08320dfc8>"
      ]
     },
     "execution_count": 16,
     "metadata": {},
     "output_type": "execute_result"
    },
    {
     "data": {
      "image/png": "[encoded data removed]",
      "text/plain": [
       "<Figure size 432x288 with 2 Axes>"
      ]
     },
     "metadata": {
      "needs_background": "light"
     },
     "output_type": "display_data"
    }
   ],
   "source": [
    "# Random Start Monte Carlo Q learning\n",
    "env = gym.make('FrozenLake8x8-v0', is_slippery=False)\n",
    "# env = gym.make('FrozenLake-v0', is_slippery=False)\n",
    "# env = gym.make('FrozenLake8x8-v0', is_slippery=True)\n",
    "# env = gym.make('FrozenLake-v0', is_slippery=True)\n",
    "env_map = env.env.desc\n",
    "term_state_flag = np.array([[s for s in row] for row in env_map])\n",
    "map_shape = term_state_flag.shape\n",
    "term_state_flag = np.isin(term_state_flag, [b'H', b'G']).reshape(-1)\n",
    "possible_starts = np.array(range(len(term_state_flag)))[np.logical_not(term_state_flag)]\n",
    "absorbing_states = np.array(range(len(term_state_flag)))[term_state_flag]\n",
    "sn.heatmap(term_state_flag.reshape(map_shape))"
   ]
  },
  {
   "cell_type": "code",
   "execution_count": 40,
   "metadata": {},
   "outputs": [],
   "source": [
    "# MODEL INPUTS\n",
    "\n",
    "# State action space dims\n",
    "n_actions = env.action_space.n\n",
    "n_states = env.observation_space.n\n",
    "qshape = (n_states, n_actions)\n",
    "actions=list(range(n_actions))\n",
    "\n",
    "# Tamper reward?\n",
    "change_reward = False\n",
    "r_goal = 10\n",
    "r_fail = -10\n",
    "r_standard = -0.1\n",
    "# Exploring Strarts? \n",
    "random_starts = False\n",
    "\n",
    "# algorithm parameters\n",
    "num_episodes = 50000\n",
    "max_steps = 100\n",
    "gamma = 0.9\n",
    "epsilon = 0.3"
   ]
  },
  {
   "cell_type": "code",
   "execution_count": 41,
   "metadata": {
    "scrolled": true
   },
   "outputs": [
    {
     "name": "stdout",
     "output_type": "stream",
     "text": [
      ">> episode 0\n",
      ">> episode 1000\n",
      ">> episode 2000\n",
      ">> episode 3000\n",
      ">> episode 4000\n",
      ">> episode 5000\n",
      ">> episode 6000\n",
      ">> episode 7000\n",
      ">> episode 8000\n",
      ">> episode 9000\n",
      ">> episode 10000\n",
      ">> episode 11000\n",
      ">> episode 12000\n",
      ">> episode 13000\n",
      ">> episode 14000\n",
      ">> episode 15000\n",
      ">> episode 16000\n",
      ">> episode 17000\n",
      ">> episode 18000\n",
      ">> episode 19000\n",
      ">> episode 20000\n",
      ">> episode 21000\n",
      ">> episode 22000\n",
      ">> episode 23000\n",
      ">> episode 24000\n",
      ">> episode 25000\n",
      ">> episode 26000\n",
      ">> episode 27000\n",
      ">> episode 28000\n",
      ">> episode 29000\n",
      ">> episode 30000\n",
      ">> episode 31000\n",
      ">> episode 32000\n",
      ">> episode 33000\n",
      ">> episode 34000\n",
      ">> episode 35000\n",
      ">> episode 36000\n",
      ">> episode 37000\n",
      ">> episode 38000\n",
      ">> episode 39000\n",
      ">> episode 40000\n",
      ">> episode 41000\n",
      ">> episode 42000\n",
      ">> episode 43000\n",
      ">> episode 44000\n",
      ">> episode 45000\n",
      ">> episode 46000\n",
      ">> episode 47000\n",
      ">> episode 48000\n",
      ">> episode 49000\n"
     ]
    }
   ],
   "source": [
    "# Initialise the policy (random policy)\n",
    "p = np.random.randint(low=0, high=n_actions-1, size=n_states)\n",
    "Q = np.zeros(qshape)\n",
    "counter = np.zeros(Q.shape)\n",
    "Returns = np.zeros(Q.shape)\n",
    "\n",
    "# storing lists\n",
    "exploring_starts = []\n",
    "total_episode_reward = []\n",
    "\n",
    "for episode in range(num_episodes):\n",
    "    \n",
    "    if episode%1000 == 0: \n",
    "        print(\">> episode %d\" % episode)\n",
    "    \n",
    "    env.reset()\n",
    "    done = False\n",
    "    G = 0\n",
    "    # steps counter\n",
    "    steps = 0\n",
    "    # log states, actions and reward as tuples for each trace\n",
    "    trace = []\n",
    "    rewards = []\n",
    "    # pick a random state as the starting state\n",
    "    # starting state shouldn't be a terminal (or absorbing)\n",
    "    if random_starts:\n",
    "        obs = possible_starts[np.random.randint(len(possible_starts))]\n",
    "        exploring_starts.append(obs)\n",
    "        env.env.s = obs\n",
    "    else:\n",
    "        obs = env.env.s\n",
    "        if obs != 0:\n",
    "            print('SHADY STUFF')\n",
    "\n",
    "    # get trace\n",
    "    # stop when a terminal state is reached or when the max steps per trace are reached\n",
    "    while (not done) & (steps < max_steps):\n",
    "        \n",
    "        # picking actions (epsilon-Greedy)\n",
    "        action = p[obs]\n",
    "        p_probs = np.ones(n_actions)*epsilon/(n_actions)\n",
    "        p_probs[action] += 1 - epsilon\n",
    "        action = np.random.choice(actions, p=p_probs)\n",
    "        \n",
    "        steps += 1\n",
    "        \n",
    "        # interact with the environment\n",
    "        new_obs, reward, done, _= env.step(int(action))\n",
    "        \n",
    "        # change the reward to speed up learning\n",
    "        if change_reward:\n",
    "            if reward == 1:\n",
    "                reward = r_goal\n",
    "            elif reward==0 and done:\n",
    "                reward = r_fail\n",
    "            else:\n",
    "                reward = r_move\n",
    "        \n",
    "        # Store state, action and reward\n",
    "        trace.append((obs, action))\n",
    "        rewards.append(reward)\n",
    "        \n",
    "        # move state\n",
    "        obs = new_obs\n",
    "    \n",
    "    # at the end of trace\n",
    "    total_episode_reward.append(sum(rewards))\n",
    "    \n",
    "    # First visit algorithm needs the if statement below\n",
    "    for step in reversed(range(len(trace))):\n",
    "        if trace[step] not in trace[:step]:\n",
    "            Returns[trace[step]] += sum([rewards[step:][i]*(gamma**i)\n",
    "                                         for i in range(len(rewards[step:]))])\n",
    "            counter[trace[step]] += 1\n",
    "            Q[trace[step]] = Returns[trace[step]] / counter[trace[step]]\n",
    "    \n",
    "    # update policy\n",
    "    # p = np.argmax(Q, axis=1)\n",
    "    # need to put a tie breaker that chooses randomly\n",
    "    p = []\n",
    "    q_max = np.max(Q, axis=1).reshape(Q.shape[0], 1)\n",
    "    for s in range(Q.shape[0]):\n",
    "        p.append(np.random.choice(np.argwhere(Q[s] == q_max[s]).flatten()))\n",
    "    p = np.array(p)"
   ]
  },
  {
   "cell_type": "code",
   "execution_count": 42,
   "metadata": {},
   "outputs": [
    {
     "data": {
      "image/png": "[encoded data removed]",
      "text/plain": [
       "<Figure size 432x288 with 1 Axes>"
      ]
     },
     "metadata": {
      "needs_background": "light"
     },
     "output_type": "display_data"
    }
   ],
   "source": [
    "plot = plt.hist(exploring_starts, bins=n_states)"
   ]
  },
  {
   "cell_type": "code",
   "execution_count": 43,
   "metadata": {},
   "outputs": [
    {
     "data": {
      "image/png": "[encoded data removed]",
      "text/plain": [
       "<Figure size 432x288 with 1 Axes>"
      ]
     },
     "metadata": {
      "needs_background": "light"
     },
     "output_type": "display_data"
    }
   ],
   "source": [
    "reward_rolling_average = pd.DataFrame()\n",
    "N = 100\n",
    "reward_rolling_average['episode reward'] = total_episode_reward\n",
    "reward_rolling_average['episode reward rolling average (%d)'%N] = (reward_rolling_average.\n",
    "                                                                   rolling(window=N).\n",
    "                                                                   mean())\n",
    "\n",
    "plt.plot(reward_rolling_average['episode reward rolling average (%d)'%N])\n",
    "plt.title(\"Reward rolling average (%d episode window)\" % N)\n",
    "plt.xlabel(\"num of episode\")\n",
    "plt.ylabel(\"total reward\")\n",
    "\n",
    "if change_reward:\n",
    "    pass\n",
    "else:\n",
    "    plt.ylim((0, 1))"
   ]
  },
  {
   "cell_type": "code",
   "execution_count": 44,
   "metadata": {
    "scrolled": false
   },
   "outputs": [
    {
     "name": "stdout",
     "output_type": "stream",
     "text": [
      "V is:\n",
      "[[0.12 0.14 0.17 0.19 0.22 0.25 0.29 0.33]\n",
      " [0.12 0.14 0.16 0.2  0.25 0.29 0.33 0.39]\n",
      " [0.08 0.11 0.13 0.   0.27 0.33 0.39 0.46]\n",
      " [0.04 0.07 0.09 0.16 0.22 0.   0.46 0.54]\n",
      " [0.05 0.07 0.05 0.   0.33 0.41 0.53 0.63]\n",
      " [0.02 0.   0.   0.   0.   0.39 0.   0.79]\n",
      " [0.04 0.   0.   0.   0.   0.   0.   1.  ]\n",
      " [0.   0.   0.   0.   0.   0.   0.   0.  ]]\n",
      "\n",
      "recommeded actions are:\n",
      "{'LEFT': 0, 'DOWN': 1, 'RIGHT': 2, 'UP': 3}\n",
      "[[2 2 2 2 2 2 2 1]\n",
      " [2 2 2 2 2 2 2 1]\n",
      " [2 2 3 0 2 2 2 1]\n",
      " [1 2 3 2 3 0 2 1]\n",
      " [2 3 0 2 2 2 2 1]\n",
      " [3 3 3 0 0 3 3 1]\n",
      " [3 2 2 2 2 2 1 1]\n",
      " [2 2 3 3 0 3 3 1]]\n"
     ]
    }
   ],
   "source": [
    "#print(Q)\n",
    "print('V is:')\n",
    "print(np.around(np.max(Q, axis=1).reshape(map_shape), decimals=2))\n",
    "print(\"\")\n",
    "print(\"recommeded actions are:\")\n",
    "print(action_dict)\n",
    "print(p.reshape(map_shape))\n",
    "# print(Q.argmax(axis=1).reshape(map_shape))"
   ]
  },
  {
   "cell_type": "code",
   "execution_count": 45,
   "metadata": {
    "scrolled": true
   },
   "outputs": [
    {
     "data": {
      "text/plain": [
       "<matplotlib.axes._subplots.AxesSubplot at 0x1f08851a988>"
      ]
     },
     "execution_count": 45,
     "metadata": {},
     "output_type": "execute_result"
    },
    {
     "data": {
      "image/png": "[encoded data removed]",
      "text/plain": [
       "<Figure size 432x288 with 2 Axes>"
      ]
     },
     "metadata": {
      "needs_background": "light"
     },
     "output_type": "display_data"
    }
   ],
   "source": [
    "sn.heatmap(np.max(Q, axis=1).reshape(map_shape), annot=True, fmt=\"0.2f\")"
   ]
  },
  {
   "cell_type": "code",
   "execution_count": 46,
   "metadata": {},
   "outputs": [
    {
     "data": {
      "text/plain": [
       "<matplotlib.axes._subplots.AxesSubplot at 0x1f0887b9048>"
      ]
     },
     "execution_count": 46,
     "metadata": {},
     "output_type": "execute_result"
    },
    {
     "data": {
      "image/png": "[encoded data removed]",
      "text/plain": [
       "<Figure size 432x288 with 2 Axes>"
      ]
     },
     "metadata": {
      "needs_background": "light"
     },
     "output_type": "display_data"
    }
   ],
   "source": [
    "sn.heatmap(np.logical_not(term_state_flag).reshape(map_shape), annot=np.max(Q, axis=1).reshape(map_shape), fmt=\"0.2f\")"
   ]
  },
  {
   "cell_type": "markdown",
   "metadata": {},
   "source": [
    "### Testing"
   ]
  },
  {
   "cell_type": "code",
   "execution_count": 146,
   "metadata": {},
   "outputs": [],
   "source": [
    "p = np.random.randint(low=0, high=n_actions, size=n_states)"
   ]
  },
  {
   "cell_type": "code",
   "execution_count": 62,
   "metadata": {},
   "outputs": [
    {
     "name": "stdout",
     "output_type": "stream",
     "text": [
      "[[2. 1. 1. 1.]\n",
      " [1. 3. 3. 1.]\n",
      " [1. 1. 4. 1.]]\n",
      "[0, 2, 2]\n"
     ]
    }
   ],
   "source": [
    "# Creating the tie breaker\n",
    "\n",
    "# Dummy matrix with one clear max\n",
    "M = np.ones((3,4))\n",
    "M[0][0] = 2\n",
    "M[1][2] = 3\n",
    "M[1][1] = 3\n",
    "M[2][2] = 4\n",
    "\n",
    "# change dims to make sure it broadcasts\n",
    "p = []\n",
    "m = np.max(M, axis=1).reshape(M.shape[0], 1)\n",
    "for row in range(M.shape[0]):\n",
    "    p.append(np.random.choice(np.argwhere(M[row]==m[row]).flatten()))\n",
    "print(M)\n",
    "print(p)\n",
    "# Need argmax\n"
   ]
  },
  {
   "cell_type": "code",
   "execution_count": 56,
   "metadata": {},
   "outputs": [
    {
     "name": "stdout",
     "output_type": "stream",
     "text": [
      "[]\n"
     ]
    }
   ],
   "source": [
    "print(p)"
   ]
  },
  {
   "cell_type": "code",
   "execution_count": 4,
   "metadata": {},
   "outputs": [],
   "source": [
    "# Define an abstract class for all Tabular RL algorithms\n",
    "class TabularRL(object):\n",
    "    \"\"\"\n",
    "    Abstract class definition\n",
    "    \"\"\"\n",
    "    def __init__(self):\n",
    "        super().__init__()\n",
    "\n",
    "    def learn(self):\n",
    "        raise NotImplementedError('This is an abstract method.')"
   ]
  },
  {
   "cell_type": "code",
   "execution_count": null,
   "metadata": {},
   "outputs": [],
   "source": [
    "custom_map = [\n",
    "    'SFFFF',\n",
    "    'HHHHF',\n",
    "    'HHHHF',\n",
    "    'HHHHF',\n",
    "    'HHHHG'\n",
    "]\n",
    "\n",
    "custom_map = [\n",
    "    'SFFFF',\n",
    "    'FFFFF',\n",
    "    'FHFFF',\n",
    "    'FFFFF',\n",
    "    'FFFFG'\n",
    "]"
   ]
  }
 ],
 "metadata": {
  "kernelspec": {
   "display_name": "tf",
   "language": "python",
   "name": "tf"
  },
  "language_info": {
   "codemirror_mode": {
    "name": "ipython",
    "version": 3
   },
   "file_extension": ".py",
   "mimetype": "text/x-python",
   "name": "python",
   "nbconvert_exporter": "python",
   "pygments_lexer": "ipython3",
   "version": "3.7.7"
  }
 },
 "nbformat": 4,
 "nbformat_minor": 4
}
