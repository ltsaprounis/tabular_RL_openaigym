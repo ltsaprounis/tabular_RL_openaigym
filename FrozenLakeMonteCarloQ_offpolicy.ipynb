{
 "cells": [
  {
   "cell_type": "code",
   "execution_count": 29,
   "metadata": {},
   "outputs": [],
   "source": [
    "import gym\n",
    "import numpy as np\n",
    "from IPython import display\n",
    "import time\n",
    "\n",
    "import pandas as pd\n",
    "import seaborn as sn\n",
    "from matplotlib import pyplot as plt\n",
    "\n",
    "%matplotlib inline"
   ]
  },
  {
   "cell_type": "markdown",
   "metadata": {},
   "source": [
    "## The environment"
   ]
  },
  {
   "cell_type": "markdown",
   "metadata": {},
   "source": [
    "[Frozen Lake 8x8 environmnet](https://github.com/openai/gym/blob/master/gym/envs/toy_text/frozen_lake.py)"
   ]
  },
  {
   "cell_type": "code",
   "execution_count": 42,
   "metadata": {},
   "outputs": [
    {
     "name": "stdout",
     "output_type": "stream",
     "text": [
      "  (Up)\n",
      "S\u001b[41mF\u001b[0mFF\n",
      "FHFH\n",
      "FFFH\n",
      "HFFG\n"
     ]
    }
   ],
   "source": [
    "# Have a look at the frozen lake environment\n",
    "env = gym.make('FrozenLake-v0')\n",
    "# env = gym.make('FrozenLake8x8-v0')\n",
    "# Action dict from source\n",
    "action_dict = {'LEFT': 0, 'DOWN': 1, 'RIGHT': 2, 'UP': 3}\n",
    "done = False\n",
    "env.reset()\n",
    "obs_list = []\n",
    "while not done:\n",
    "    display.clear_output(wait=True)\n",
    "    time.sleep(0.5)\n",
    "    env.render()\n",
    "    obs, reward, done, info= env.step(env.action_space.sample()) # take a random action\n",
    "    obs_list.append((obs, reward, done, info))\n",
    "env.close()"
   ]
  },
  {
   "cell_type": "code",
   "execution_count": 51,
   "metadata": {},
   "outputs": [
    {
     "name": "stdout",
     "output_type": "stream",
     "text": [
      "\n",
      "    Winter is here. You and your friends were tossing around a frisbee at the park\n",
      "    when you made a wild throw that left the frisbee out in the middle of the lake.\n",
      "    The water is mostly frozen, but there are a few holes where the ice has melted.\n",
      "    If you step into one of those holes, you'll fall into the freezing water.\n",
      "    At this time, there's an international frisbee shortage, so it's absolutely imperative that\n",
      "    you navigate across the lake and retrieve the disc.\n",
      "    However, the ice is slippery, so you won't always move in the direction you intend.\n",
      "    The surface is described using a grid like the following\n",
      "\n",
      "        SFFF\n",
      "        FHFH\n",
      "        FFFH\n",
      "        HFFG\n",
      "\n",
      "    S : starting point, safe\n",
      "    F : frozen surface, safe\n",
      "    H : hole, fall to your doom\n",
      "    G : goal, where the frisbee is located\n",
      "\n",
      "    The episode ends when you reach the goal or fall in a hole.\n",
      "    You receive a reward of 1 if you reach the goal, and zero otherwise.\n",
      "\n",
      "    \n"
     ]
    }
   ],
   "source": [
    "print(env.env.__doc__)"
   ]
  },
  {
   "cell_type": "code",
   "execution_count": 31,
   "metadata": {},
   "outputs": [],
   "source": [
    "# Define a few useful functions\n",
    "\n",
    "def get_p_from_Q(Q, single_action_in_ties=True):\n",
    "    \"\"\"\n",
    "    get a greedy policy from the state action value matrix q\n",
    "    returns a matrix p of dims like Q\n",
    "    \"\"\"\n",
    "    p = np.zeros(Q.shape)\n",
    "    q_max = np.max(Q, axis=1).reshape(Q.shape[0], 1)\n",
    "    \n",
    "    if single_action_in_ties:\n",
    "        for s in range(Q.shape[0]):\n",
    "            p[s, np.random.choice(np.argwhere(Q[s] == q_max[s]).flatten())] = 1\n",
    "    else:\n",
    "        for s in range(Q.shape[0]):\n",
    "            p[s] = ((Q[s] == q_max[s])*1)/sum((Q[s] == q_max[s])*1)\n",
    "    \n",
    "    return p\n",
    "\n",
    "\n",
    "def epsilon_greedy(greedy, epsilon):\n",
    "    \"\"\"\n",
    "    returns an epsilon-greedy policy from the greedy policy\n",
    "    \"\"\"\n",
    "    # Add checks that greedy is deterministic\n",
    "    p = greedy - (greedy==1)*epsilon\n",
    "    p = p + epsilon/(greedy.shape[1])\n",
    "    return p"
   ]
  },
  {
   "cell_type": "code",
   "execution_count": 55,
   "metadata": {},
   "outputs": [
    {
     "data": {
      "text/plain": [
       "<matplotlib.axes._subplots.AxesSubplot at 0x1f33ed1d6c8>"
      ]
     },
     "execution_count": 55,
     "metadata": {},
     "output_type": "execute_result"
    },
    {
     "data": {
      "image/png": "[encoded data removed]",
      "text/plain": [
       "<Figure size 432x288 with 2 Axes>"
      ]
     },
     "metadata": {
      "needs_background": "light"
     },
     "output_type": "display_data"
    }
   ],
   "source": [
    "# Random Start Monte Carlo Q learning\n",
    "env = gym.make('FrozenLake8x8-v0', is_slippery=False)\n",
    "# env = gym.make('FrozenLake-v0', is_slippery=False)\n",
    "# env = gym.make('FrozenLake8x8-v0', is_slippery=True)\n",
    "# env = gym.make('FrozenLake-v0', is_slippery=True)\n",
    "env_map = env.env.desc\n",
    "term_state_flag = np.array([[s for s in row] for row in env_map])\n",
    "map_shape = term_state_flag.shape\n",
    "term_state_flag = np.isin(term_state_flag, [b'H', b'G']).reshape(-1)\n",
    "possible_starts = np.array(range(len(term_state_flag)))[np.logical_not(term_state_flag)]\n",
    "absorbing_states = np.array(range(len(term_state_flag)))[term_state_flag]\n",
    "sn.heatmap(term_state_flag.reshape(map_shape))"
   ]
  },
  {
   "cell_type": "code",
   "execution_count": 74,
   "metadata": {},
   "outputs": [],
   "source": [
    "# MODEL INPUTS\n",
    "\n",
    "# State action space dims\n",
    "n_actions = env.action_space.n\n",
    "n_states = env.observation_space.n\n",
    "qshape = (n_states, n_actions)\n",
    "actions=list(range(n_actions))\n",
    "\n",
    "# Tamper reward?\n",
    "change_reward = False\n",
    "r_goal = 10\n",
    "r_fail = -10\n",
    "r_standard = -0.1\n",
    "# Exploring Strarts? \n",
    "random_starts = False\n",
    "\n",
    "# algorithm parameters\n",
    "num_episodes = 1000000\n",
    "print_episode_num = int(num_episodes/10)\n",
    "max_steps = 100\n",
    "gamma = 0.9\n",
    "epsilon = 0.8"
   ]
  },
  {
   "cell_type": "code",
   "execution_count": 75,
   "metadata": {
    "scrolled": true
   },
   "outputs": [
    {
     "name": "stdout",
     "output_type": "stream",
     "text": [
      ">> episode 0\n",
      ">> episode 100000\n",
      ">> episode 200000\n",
      ">> episode 300000\n",
      ">> episode 400000\n",
      ">> episode 500000\n",
      ">> episode 600000\n",
      ">> episode 700000\n",
      ">> episode 800000\n",
      ">> episode 900000\n"
     ]
    }
   ],
   "source": [
    "# Initialise the policy (random policy)\n",
    "Q = np.zeros(qshape)\n",
    "p = get_p_from_Q(Q)\n",
    "C = np.zeros(Q.shape)\n",
    "Returns = np.zeros(Q.shape)\n",
    "\n",
    "# storing lists\n",
    "exploring_starts = []\n",
    "total_episode_reward = []\n",
    "\n",
    "for episode in range(num_episodes):\n",
    "    \n",
    "    # printing\n",
    "    if episode%print_episode_num == 0: \n",
    "        print(\">> episode %d\" % episode)\n",
    "    env.reset()\n",
    "    done = False\n",
    "    \n",
    "    #Return\n",
    "    G = 0\n",
    "    # Weight\n",
    "    W = 1\n",
    "    # steps counter\n",
    "    steps = 0\n",
    "    \n",
    "    # log states, actions and reward as tuples for each trace\n",
    "    trace = []\n",
    "    rewards = []\n",
    "    \n",
    "    # pick a random state as the starting state\n",
    "    # starting state shouldn't be a terminal (or absorbing)\n",
    "    if random_starts:\n",
    "        obs = possible_starts[np.random.randint(len(possible_starts))]\n",
    "        exploring_starts.append(obs)\n",
    "        env.env.s = obs\n",
    "    else:\n",
    "        obs = env.env.s\n",
    "    \n",
    "    # behavioural policy (epsilon-greedy policy from target policy p to ensure b covers p)\n",
    "    b = epsilon_greedy(p, epsilon)\n",
    "\n",
    "    # get trace\n",
    "    # stop when a terminal state is reached or when the max steps per trace are reached\n",
    "    while (not done) & (steps < max_steps):\n",
    "        \n",
    "        # picking actions\n",
    "        action = np.random.choice(actions, p=b[obs])\n",
    "        \n",
    "        # interact with the environment\n",
    "        new_obs, reward, done, _= env.step(int(action))\n",
    "        \n",
    "        # change the reward to speed up learning\n",
    "        if change_reward:\n",
    "            if reward == 1:\n",
    "                reward = r_goal\n",
    "            elif reward==0 and done:\n",
    "                reward = r_fail\n",
    "            else:\n",
    "                reward = r_move\n",
    "        \n",
    "        # Store state, action and reward\n",
    "        trace.append((obs, action))\n",
    "        rewards.append(reward)\n",
    "        \n",
    "        # move state\n",
    "        obs = new_obs\n",
    "        \n",
    "        # steps counter\n",
    "        steps += 1\n",
    "    \n",
    "    # at the end of trace\n",
    "    total_episode_reward.append(sum(rewards))\n",
    "    \n",
    "    for step in reversed(range(len(trace))):\n",
    "        # state action pair\n",
    "        sa = trace[step]\n",
    "        \n",
    "        # make sure this is the first visit\n",
    "        if sa not in trace[:step]:\n",
    "            # make calculation for G more efficient\n",
    "            G = sum([rewards[step:][i]*(gamma**i)\n",
    "                                         for i in range(len(rewards[step:]))])\n",
    "            C[sa] += W\n",
    "            Q[sa] = Q[sa] + W*(G-Q[sa])/C[sa]\n",
    "            \n",
    "            # update the policy\n",
    "            p = get_p_from_Q(Q)\n",
    "            \n",
    "            # if this state action pair is not in in the target policy - break the loop\n",
    "            if p[sa]!=1: \n",
    "                break\n",
    "            \n",
    "            # update the weight\n",
    "            W = W*(p[sa]/b[sa]) # equivalent to W*(1/b[sa]) if p is deterministic"
   ]
  },
  {
   "cell_type": "code",
   "execution_count": 76,
   "metadata": {},
   "outputs": [
    {
     "data": {
      "image/png": "[encoded data removed]",
      "text/plain": [
       "<Figure size 432x288 with 1 Axes>"
      ]
     },
     "metadata": {
      "needs_background": "light"
     },
     "output_type": "display_data"
    }
   ],
   "source": [
    "# sanity check for exploring starts\n",
    "plot = plt.hist(exploring_starts, bins=n_states)"
   ]
  },
  {
   "cell_type": "code",
   "execution_count": 77,
   "metadata": {},
   "outputs": [
    {
     "data": {
      "image/png": "[encoded data removed]",
      "text/plain": [
       "<Figure size 432x288 with 1 Axes>"
      ]
     },
     "metadata": {
      "needs_background": "light"
     },
     "output_type": "display_data"
    }
   ],
   "source": [
    "reward_rolling_average = pd.DataFrame()\n",
    "N = 100\n",
    "reward_rolling_average['episode reward'] = total_episode_reward\n",
    "reward_rolling_average['episode reward rolling average (%d)'%N] = (reward_rolling_average.\n",
    "                                                                   rolling(window=N).\n",
    "                                                                   mean())\n",
    "\n",
    "plt.plot(reward_rolling_average['episode reward rolling average (%d)'%N])\n",
    "plt.title(\"Reward rolling average (%d episode window)\" % N)\n",
    "plt.xlabel(\"num of episode\")\n",
    "plt.ylabel(\"total reward\")\n",
    "\n",
    "if change_reward:\n",
    "    pass\n",
    "else:\n",
    "    plt.ylim((0, 1))"
   ]
  },
  {
   "cell_type": "code",
   "execution_count": 78,
   "metadata": {
    "scrolled": true
   },
   "outputs": [
    {
     "data": {
      "text/plain": [
       "<matplotlib.axes._subplots.AxesSubplot at 0x1f34233b708>"
      ]
     },
     "execution_count": 78,
     "metadata": {},
     "output_type": "execute_result"
    },
    {
     "data": {
      "image/png": "[encoded data removed]",
      "text/plain": [
       "<Figure size 432x288 with 2 Axes>"
      ]
     },
     "metadata": {
      "needs_background": "light"
     },
     "output_type": "display_data"
    }
   ],
   "source": [
    "sn.heatmap(np.max(Q, axis=1).reshape(map_shape), annot=True, fmt=\"0.2f\")"
   ]
  },
  {
   "cell_type": "code",
   "execution_count": 79,
   "metadata": {},
   "outputs": [
    {
     "data": {
      "text/plain": [
       "<matplotlib.axes._subplots.AxesSubplot at 0x1f342529d88>"
      ]
     },
     "execution_count": 79,
     "metadata": {},
     "output_type": "execute_result"
    },
    {
     "data": {
      "image/png": "[encoded data removed]",
      "text/plain": [
       "<Figure size 432x288 with 2 Axes>"
      ]
     },
     "metadata": {
      "needs_background": "light"
     },
     "output_type": "display_data"
    }
   ],
   "source": [
    "sn.heatmap(np.logical_not(term_state_flag).reshape(map_shape), annot=np.max(Q, axis=1).reshape(map_shape), fmt=\"0.2f\")"
   ]
  },
  {
   "cell_type": "markdown",
   "metadata": {},
   "source": [
    "### Testing"
   ]
  },
  {
   "cell_type": "code",
   "execution_count": 146,
   "metadata": {},
   "outputs": [],
   "source": [
    "p = np.random.randint(low=0, high=n_actions, size=n_states)"
   ]
  },
  {
   "cell_type": "code",
   "execution_count": 8,
   "metadata": {},
   "outputs": [
    {
     "name": "stdout",
     "output_type": "stream",
     "text": [
      "[[2. 1. 1. 1.]\n",
      " [1. 3. 3. 1.]\n",
      " [1. 1. 4. 1.]]\n",
      "[0, 1, 2]\n"
     ]
    }
   ],
   "source": [
    "# Creating the tie breaker\n",
    "\n",
    "# Dummy matrix with one clear max\n",
    "M = np.ones((3,4))\n",
    "M[0, 0] = 2\n",
    "M[1, 2] = 3\n",
    "M[1, 1] = 3\n",
    "M[2, 2] = 4\n",
    "\n",
    "# change dims to make sure it broadcasts\n",
    "p = []\n",
    "m = np.max(M, axis=1).reshape(M.shape[0], 1)\n",
    "for row in range(M.shape[0]):\n",
    "    p.append(np.random.choice(np.argwhere(M[row]==m[row]).flatten()))\n",
    "print(M)\n",
    "print(p)\n",
    "# Need argmax\n"
   ]
  },
  {
   "cell_type": "code",
   "execution_count": 28,
   "metadata": {},
   "outputs": [
    {
     "name": "stdout",
     "output_type": "stream",
     "text": [
      "[[0.7 0.1 0.1 0.1]\n",
      " [0.1 0.1 0.7 0.1]\n",
      " [0.1 0.1 0.7 0.1]]\n"
     ]
    }
   ],
   "source": [
    "print(epsilon_greedy(get_p_from_Q(M, single_action_in_ties=True), 0.4))"
   ]
  },
  {
   "cell_type": "code",
   "execution_count": 25,
   "metadata": {},
   "outputs": [
    {
     "data": {
      "text/plain": [
       "array([[0. , 0.5, 0.5, 0.5],\n",
       "       [0.5, 0. , 0. , 0.5],\n",
       "       [0.5, 0.5, 0. , 0.5]])"
      ]
     },
     "execution_count": 25,
     "metadata": {},
     "output_type": "execute_result"
    }
   ],
   "source": [
    "(M == 1)*0.5"
   ]
  },
  {
   "cell_type": "code",
   "execution_count": 54,
   "metadata": {},
   "outputs": [
    {
     "data": {
      "text/plain": [
       "3.0"
      ]
     },
     "execution_count": 54,
     "metadata": {},
     "output_type": "execute_result"
    }
   ],
   "source": [
    "M[(1,1)]"
   ]
  },
  {
   "cell_type": "code",
   "execution_count": 16,
   "metadata": {},
   "outputs": [
    {
     "name": "stdout",
     "output_type": "stream",
     "text": [
      "[0, 1, 2]\n"
     ]
    }
   ],
   "source": [
    "print(p)"
   ]
  },
  {
   "cell_type": "code",
   "execution_count": 4,
   "metadata": {},
   "outputs": [],
   "source": [
    "# Define an abstract class for all Tabular RL algorithms\n",
    "class TabularRL(object):\n",
    "    \"\"\"\n",
    "    Abstract class definition\n",
    "    \"\"\"\n",
    "    def __init__(self):\n",
    "        super().__init__()\n",
    "\n",
    "    def learn(self):\n",
    "        raise NotImplementedError('This is an abstract method.')"
   ]
  },
  {
   "cell_type": "code",
   "execution_count": null,
   "metadata": {},
   "outputs": [],
   "source": [
    "custom_map = [\n",
    "    'SFFFF',\n",
    "    'HHHHF',\n",
    "    'HHHHF',\n",
    "    'HHHHF',\n",
    "    'HHHHG'\n",
    "]\n",
    "\n",
    "custom_map = [\n",
    "    'SFFFF',\n",
    "    'FFFFF',\n",
    "    'FHFFF',\n",
    "    'FFFFF',\n",
    "    'FFFFG'\n",
    "]"
   ]
  }
 ],
 "metadata": {
  "kernelspec": {
   "display_name": "tf",
   "language": "python",
   "name": "tf"
  },
  "language_info": {
   "codemirror_mode": {
    "name": "ipython",
    "version": 3
   },
   "file_extension": ".py",
   "mimetype": "text/x-python",
   "name": "python",
   "nbconvert_exporter": "python",
   "pygments_lexer": "ipython3",
   "version": "3.7.7"
  }
 },
 "nbformat": 4,
 "nbformat_minor": 4
}
